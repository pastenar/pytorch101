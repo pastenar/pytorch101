{
  "nbformat": 4,
  "nbformat_minor": 0,
  "metadata": {
    "colab": {
      "provenance": [],
      "authorship_tag": "ABX9TyOHHf0sKXZdcdR0VFT59GoL",
      "include_colab_link": true
    },
    "kernelspec": {
      "name": "python3",
      "display_name": "Python 3"
    },
    "language_info": {
      "name": "python"
    }
  },
  "cells": [
    {
      "cell_type": "markdown",
      "metadata": {
        "id": "view-in-github",
        "colab_type": "text"
      },
      "source": [
        "<a href=\"https://colab.research.google.com/github/pastenar/pytorch101/blob/main/1_0_pytorch_workflow_code.ipynb\" target=\"_parent\"><img src=\"https://colab.research.google.com/assets/colab-badge.svg\" alt=\"Open In Colab\"/></a>"
      ]
    },
    {
      "cell_type": "markdown",
      "source": [
        "## Workflow\n",
        "\n",
        "Resources:\n",
        "- repo: https://github.com/mrdbourke/pytorch-deep-learning/blob/main/01_pytorch_workflow.ipynb\n",
        "- online book: https://www.learnpytorch.io/01_pytorch_workflow/\n",
        "\n",
        "Items:\n",
        "1. Data (prepare and load)\n",
        "2. Build a model\n",
        "3. Fitting model to data (training)\n",
        "4. making predictions and evaluating the model (inference).\n",
        "5. saving and load the model\n",
        "6. putting all together."
      ],
      "metadata": {
        "id": "tiK6ITSpoAXN"
      }
    },
    {
      "cell_type": "code",
      "source": [
        "import torch\n",
        "from torch import nn\n",
        "import matplotlib.pyplot as plt\n",
        "\n",
        "torch.__version__"
      ],
      "metadata": {
        "colab": {
          "base_uri": "https://localhost:8080/",
          "height": 36
        },
        "id": "xrAGrZoKoTZH",
        "outputId": "4e005fbd-1bcd-49af-9494-13d2eb69e596"
      },
      "execution_count": null,
      "outputs": [
        {
          "output_type": "execute_result",
          "data": {
            "text/plain": [
              "'2.5.1+cu124'"
            ],
            "application/vnd.google.colaboratory.intrinsic+json": {
              "type": "string"
            }
          },
          "metadata": {},
          "execution_count": 2
        }
      ]
    },
    {
      "cell_type": "markdown",
      "source": [
        "## 1.Data (preparing and loading)\n",
        "\n",
        "### Splitting Data\n",
        "\n"
      ],
      "metadata": {
        "id": "JEK90PE-UUUr"
      }
    },
    {
      "cell_type": "code",
      "source": [
        "# Create *known* parameters\n",
        "weight = 0.7\n",
        "bias = 0.3\n",
        "\n",
        "# Create data\n",
        "start = 0\n",
        "end = 1\n",
        "step = 0.02\n",
        "X = torch.arange(start, end, step).unsqueeze(dim=1)\n",
        "y = weight * X + bias"
      ],
      "metadata": {
        "id": "fK37mK-lEXeA"
      },
      "execution_count": null,
      "outputs": []
    },
    {
      "cell_type": "code",
      "source": [
        "# Create train - test split.\n",
        "\n",
        "train_split = int(0.8 * len(X))\n",
        "X_train, y_train = X[:train_split], y[:train_split]\n",
        "X_test, y_test = X[train_split:], y[train_split:]\n",
        "\n",
        "len(X_train), len(y_train), len(X_test), len(y_test)"
      ],
      "metadata": {
        "id": "hIVkq82KbGLv",
        "colab": {
          "base_uri": "https://localhost:8080/"
        },
        "outputId": "d6d3c892-6d8d-4070-bfe0-2537a1412fa8"
      },
      "execution_count": null,
      "outputs": [
        {
          "output_type": "execute_result",
          "data": {
            "text/plain": [
              "(40, 40, 10, 10)"
            ]
          },
          "metadata": {},
          "execution_count": 4
        }
      ]
    },
    {
      "cell_type": "code",
      "source": [
        "def plot_predictions(train_data = X_train,\n",
        "                     train_labels = y_train,\n",
        "                     test_data = X_test,\n",
        "                     test_labels = y_test,\n",
        "                     predictions = None):\n",
        "\n",
        "  plt.figure(figsize=(8,5))\n",
        "  # Plot Train data\n",
        "  plt.scatter(train_data, train_labels, c='b', s=4, label=\"Training data \")\n",
        "  # Plot Test data\n",
        "  plt.scatter(test_data, test_labels, c='g', s=4, label=\"Testng data \")\n",
        "\n",
        "  if predictions is not None:\n",
        "    plt.scatter(test_data, predictions, c='r', s=4, label=\"Predictions\")\n",
        "\n",
        "  plt.legend(prop={'size':14})\n"
      ],
      "metadata": {
        "id": "wAQsc_UwE8Kq"
      },
      "execution_count": null,
      "outputs": []
    },
    {
      "cell_type": "code",
      "source": [
        "plot_predictions()"
      ],
      "metadata": {
        "colab": {
          "base_uri": "https://localhost:8080/",
          "height": 445
        },
        "id": "DfDIqcKnJBuY",
        "outputId": "5d03de76-9d92-4ba5-84ca-5b72938266af"
      },
      "execution_count": null,
      "outputs": [
        {
          "output_type": "display_data",
          "data": {
            "text/plain": [
              "<Figure size 800x500 with 1 Axes>"
            ],
            "image/png": "[encoded data removed]"
          },
          "metadata": {}
        }
      ]
    },
    {
      "cell_type": "markdown",
      "source": [
        "## 2. Build a Model\n",
        "\n",
        "Build a linear regression model"
      ],
      "metadata": {
        "id": "mWqyTuEFKZ1_"
      }
    },
    {
      "cell_type": "code",
      "source": [
        "# Create linear regression model class\n",
        "class LinearRegressionModel(nn.Module):\n",
        "  def __init__(self):\n",
        "    super().__init__()\n",
        "\n",
        "    # Initialise model parameters\n",
        "    self.weights = nn.Parameter(torch.rand(1,\n",
        "                                           requires_grad = True, # if the parameter requires gradeient, torch.autograd\n",
        "                                           dtype = torch.float))\n",
        "\n",
        "    self.bias = nn.Parameter(torch.rand(1,\n",
        "                                        requires_grad = True,\n",
        "                                        dtype = torch.float))\n",
        "\n",
        "  # Forward method to define the computation in the model (at call)\n",
        "  def forward(self, x: torch.Tensor) -> torch.Tensor: # <- \"x\" is the input data\n",
        "    return self.weights * x + self.bias\n"
      ],
      "metadata": {
        "id": "i7stC-8pKans"
      },
      "execution_count": null,
      "outputs": []
    },
    {
      "cell_type": "markdown",
      "source": [
        "Pytorch model building essentials\n",
        "\n",
        "* ``torch.nn`` - contains all of the buildings for computational graphs\n",
        "* ``torch.nn.Parameters`` - what parameters should our model try and learn, often a PyTorch layer  from torch.nn will set these for us\n",
        "* ``torch.nn.Module`` - The base class for all neural modules, if you subclass it, you should overwrite forward()\n",
        "* ``torch.optim`` - this where the optimizer in Pytorch live, They will help with gradient descent\n",
        "* ``def forward()`` - All nn.Module require you to overwrite forward(), this method overwrite defines what happens in the forward computation.\n"
      ],
      "metadata": {
        "id": "BUYvwvaVXwv9"
      }
    },
    {
      "cell_type": "code",
      "source": [
        "torch.manual_seed(42)\n",
        "\n",
        "model_0 = LinearRegressionModel()\n",
        "\n",
        "list(model_0.parameters())"
      ],
      "metadata": {
        "id": "VsdKatTqJgXJ",
        "colab": {
          "base_uri": "https://localhost:8080/"
        },
        "outputId": "e1d862b9-b6bd-4274-86c3-0576631f2891"
      },
      "execution_count": null,
      "outputs": [
        {
          "output_type": "execute_result",
          "data": {
            "text/plain": [
              "[Parameter containing:\n",
              " tensor([0.8823], requires_grad=True),\n",
              " Parameter containing:\n",
              " tensor([0.9150], requires_grad=True)]"
            ]
          },
          "metadata": {},
          "execution_count": 29
        }
      ]
    },
    {
      "cell_type": "code",
      "source": [
        "model_0.state_dict()"
      ],
      "metadata": {
        "id": "3qO87MZaJg5f",
        "colab": {
          "base_uri": "https://localhost:8080/"
        },
        "outputId": "54fb3afe-726f-4372-c735-736812f6555b"
      },
      "execution_count": null,
      "outputs": [
        {
          "output_type": "execute_result",
          "data": {
            "text/plain": [
              "OrderedDict([('weights', tensor([0.8823])), ('bias', tensor([0.9150]))])"
            ]
          },
          "metadata": {},
          "execution_count": 30
        }
      ]
    },
    {
      "cell_type": "markdown",
      "source": [
        "### Make predictions using ``torch.inference_mode()``\n"
      ],
      "metadata": {
        "id": "j6SL1QIxJhPu"
      }
    },
    {
      "cell_type": "code",
      "source": [
        "with torch.inference_mode():\n",
        "  y_preds = model_0(X_test)\n",
        "\n",
        "# Other option but not preferred:\n",
        "#   with torch.no_grad():\n",
        "#     y_preds = model_0(X_test)\n",
        "\n",
        "y_preds"
      ],
      "metadata": {
        "colab": {
          "base_uri": "https://localhost:8080/"
        },
        "id": "s48-UYOq6kYD",
        "outputId": "1f36b12c-2bbd-46c6-bc2d-ac027ff2cd18"
      },
      "execution_count": null,
      "outputs": [
        {
          "output_type": "execute_result",
          "data": {
            "text/plain": [
              "tensor([[1.6208],\n",
              "        [1.6385],\n",
              "        [1.6561],\n",
              "        [1.6738],\n",
              "        [1.6914],\n",
              "        [1.7090],\n",
              "        [1.7267],\n",
              "        [1.7443],\n",
              "        [1.7620],\n",
              "        [1.7796]])"
            ]
          },
          "metadata": {},
          "execution_count": 31
        }
      ]
    },
    {
      "cell_type": "code",
      "source": [
        "plot_predictions(predictions=y_preds)"
      ],
      "metadata": {
        "id": "oOnCMTlb7vyU",
        "colab": {
          "base_uri": "https://localhost:8080/",
          "height": 445
        },
        "outputId": "939d6ca2-ff5a-43b5-f20c-0a8449a219c8"
      },
      "execution_count": null,
      "outputs": [
        {
          "output_type": "display_data",
          "data": {
            "text/plain": [
              "<Figure size 800x500 with 1 Axes>"
            ],
            "image/png": "[encoded data removed]"
          },
          "metadata": {}
        }
      ]
    },
    {
      "cell_type": "markdown",
      "source": [
        "## Train  Model\n",
        "\n",
        "What's needed:\n",
        "  - **Loss function**: how wrong your model predictions, lower is better\n",
        "  - **Optimizer**: adjust base in the loss function\n",
        "\n",
        "for pytorch you need:\n",
        "  - A training loop\n",
        "  - A testin loop"
      ],
      "metadata": {
        "id": "5KX-hks7_niO"
      }
    },
    {
      "cell_type": "code",
      "source": [
        "# Loss function\n",
        "loss_fn = nn.L1Loss()\n",
        "\n",
        "# Setup an optimizer\n",
        "optimizer = torch.optim.SGD(model_0.parameters(),\n",
        "                            lr = 0.01 # learning rate,\n",
        "                            )\n"
      ],
      "metadata": {
        "id": "QPc8JPTT_n6q"
      },
      "execution_count": null,
      "outputs": []
    },
    {
      "cell_type": "markdown",
      "source": [
        "### Building a training loop (and testing)\n",
        "\n",
        "Whats need:\n",
        "0. Loop through the data\n",
        "1. Forward pass (data moving through ``forward()`` of the model) to make predictions - also called forward propagation\n",
        "2. Calculate the loss (compare forward pass predictions to ground truht labels)\n",
        "3. Optimzer zero grad\n",
        "4. Loss backward - move backward throught the network to calculate the gradients of each of the parameters of our model with respecto to the loss (**backpropagation**)\n",
        "5. Optimizer step - use optimizer to adjust our model's parameters to try and improve the loss (**gradient descent**)"
      ],
      "metadata": {
        "id": "9cgLhYvt_oOR"
      }
    },
    {
      "cell_type": "code",
      "source": [
        "# the number of loops over the data\n",
        "epochs = 1\n",
        "\n",
        "\n",
        "## TRAINING\n",
        "\n",
        "# 0. Loop through data\n",
        "for epoch in range(epochs):\n",
        "  # Set modelo to training mode\n",
        "  model_0.train()\n",
        "\n",
        "  # 1. Forward pass\n",
        "  y_pred = model_0(X_train)\n",
        "\n",
        "  # 2. Calculate the loss\n",
        "  loss = loss_fn(y_pred, y_train)\n",
        "\n",
        "  # 3. Optimizer zero grad\n",
        "  optimizer.zero_grad()\n",
        "\n",
        "  # 4. Perform backpropagation on the loss with respect to the parameters of the model\n",
        "  loss.backward()\n",
        "\n",
        "  # 5. Step the optimizer (perform gradient descent)\n",
        "  optimizer.step()\n",
        "\n",
        "\n",
        "\n",
        "  model_0.eval()\n"
      ],
      "metadata": {
        "id": "Wy_-RBs0_of3"
      },
      "execution_count": null,
      "outputs": []
    },
    {
      "cell_type": "code",
      "source": [],
      "metadata": {
        "id": "EJH0rhZC_omS"
      },
      "execution_count": null,
      "outputs": []
    },
    {
      "cell_type": "code",
      "source": [],
      "metadata": {
        "id": "Ceq198i__osD"
      },
      "execution_count": null,
      "outputs": []
    }
  ]
}