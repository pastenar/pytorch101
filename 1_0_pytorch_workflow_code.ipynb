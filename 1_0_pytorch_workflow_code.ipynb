{
  "nbformat": 4,
  "nbformat_minor": 0,
  "metadata": {
    "colab": {
      "provenance": [],
      "gpuType": "T4",
      "authorship_tag": "ABX9TyN1Tz9jHLImfHGA6DKupXBx",
      "include_colab_link": true
    },
    "kernelspec": {
      "name": "python3",
      "display_name": "Python 3"
    },
    "language_info": {
      "name": "python"
    },
    "accelerator": "GPU"
  },
  "cells": [
    {
      "cell_type": "markdown",
      "metadata": {
        "id": "view-in-github",
        "colab_type": "text"
      },
      "source": [
        "<a href=\"https://colab.research.google.com/github/pastenar/pytorch101/blob/main/1_0_pytorch_workflow_code.ipynb\" target=\"_parent\"><img src=\"https://colab.research.google.com/assets/colab-badge.svg\" alt=\"Open In Colab\"/></a>"
      ]
    },
    {
      "cell_type": "markdown",
      "source": [
        "## Workflow\n",
        "\n",
        "Resources:\n",
        "- repo: https://github.com/mrdbourke/pytorch-deep-learning/blob/main/01_pytorch_workflow.ipynb\n",
        "- online book: https://www.learnpytorch.io/01_pytorch_workflow/\n",
        "\n",
        "Items:\n",
        "1. Data (prepare and load)\n",
        "2. Build a model\n",
        "3. Fitting model to data (training)\n",
        "4. making predictions and evaluating the model (inference).\n",
        "5. saving and load the model\n",
        "6. putting all together."
      ],
      "metadata": {
        "id": "tiK6ITSpoAXN"
      }
    },
    {
      "cell_type": "code",
      "source": [
        "import torch\n",
        "from torch import nn\n",
        "import matplotlib.pyplot as plt\n",
        "\n",
        "torch.__version__"
      ],
      "metadata": {
        "colab": {
          "base_uri": "https://localhost:8080/",
          "height": 36
        },
        "id": "xrAGrZoKoTZH",
        "outputId": "904f55c3-b8c7-4db3-bfd3-6b5622c11acd"
      },
      "execution_count": 1,
      "outputs": [
        {
          "output_type": "execute_result",
          "data": {
            "text/plain": [
              "'2.5.1+cu124'"
            ],
            "application/vnd.google.colaboratory.intrinsic+json": {
              "type": "string"
            }
          },
          "metadata": {},
          "execution_count": 1
        }
      ]
    },
    {
      "cell_type": "markdown",
      "source": [
        "## Data (preparing and loading)\n",
        "\n",
        "### Splitting Data\n",
        "\n"
      ],
      "metadata": {
        "id": "JEK90PE-UUUr"
      }
    },
    {
      "cell_type": "code",
      "source": [
        "# Create *known* parameters\n",
        "weight = 0.7\n",
        "bias = 0.3\n",
        "\n",
        "# Create data\n",
        "start = 0\n",
        "end = 1\n",
        "step = 0.02\n",
        "X = torch.arange(start, end, step).unsqueeze(dim=1)\n",
        "y = weight * X + bias"
      ],
      "metadata": {
        "id": "fK37mK-lEXeA"
      },
      "execution_count": 2,
      "outputs": []
    },
    {
      "cell_type": "code",
      "source": [
        "# Create train - test split.\n",
        "\n",
        "train_split = int(0.8 * len(X))\n",
        "X_train, y_train = X[:train_split], y[:train_split]\n",
        "X_test, y_test = X[train_split:], y[train_split:]\n",
        "\n",
        "len(X_train), len(y_train), len(X_test), len(y_test)"
      ],
      "metadata": {
        "id": "hIVkq82KbGLv",
        "colab": {
          "base_uri": "https://localhost:8080/"
        },
        "outputId": "c987c0f8-cc23-4f16-93c2-274ba0e0a2d7"
      },
      "execution_count": 3,
      "outputs": [
        {
          "output_type": "execute_result",
          "data": {
            "text/plain": [
              "(40, 40, 10, 10)"
            ]
          },
          "metadata": {},
          "execution_count": 3
        }
      ]
    },
    {
      "cell_type": "code",
      "source": [
        "def plot_predictions(train_data = X_train,\n",
        "                     train_labels = y_train,\n",
        "                     test_data = X_test,\n",
        "                     test_labels = y_test,\n",
        "                     predictions = None):\n",
        "\n",
        "  plt.figure(figsize=(8,5))\n",
        "  # Plot Train data\n",
        "  plt.scatter(train_data, train_labels, c='b', s=4, label=\"Training data \")\n",
        "  # Plot Test data\n",
        "  plt.scatter(test_data, test_labels, c='g', s=4, label=\"Testng data \")\n",
        "\n",
        "  if predictions is not None:\n",
        "    plt.scatter(test_data, predictions, c='r', s=4, label=\"Predictions\")\n",
        "\n",
        "  plt.legend(prop={'size':14})\n"
      ],
      "metadata": {
        "id": "wAQsc_UwE8Kq"
      },
      "execution_count": 4,
      "outputs": []
    },
    {
      "cell_type": "code",
      "source": [
        "plot_predictions()"
      ],
      "metadata": {
        "colab": {
          "base_uri": "https://localhost:8080/",
          "height": 445
        },
        "id": "DfDIqcKnJBuY",
        "outputId": "5ed86982-374c-49e8-9eed-22916fe862da"
      },
      "execution_count": 5,
      "outputs": [
        {
          "output_type": "display_data",
          "data": {
            "text/plain": [
              "<Figure size 800x500 with 1 Axes>"
            ],
            "image/png": "[encoded data removed]"
          },
          "metadata": {}
        }
      ]
    },
    {
      "cell_type": "markdown",
      "source": [
        "## 2. Build a Model\n",
        "\n",
        "Build a linear regression model"
      ],
      "metadata": {
        "id": "mWqyTuEFKZ1_"
      }
    },
    {
      "cell_type": "code",
      "source": [
        "# Create linear regression model class\n",
        "class LinearRegressionModel(nn.Module):\n",
        "  def __init__(self):\n",
        "    super().__init__()\n",
        "\n",
        "    # Initialise model parameters\n",
        "    self.weights = nn.Parameter(torch.rand(1,\n",
        "                                           requires_grad = True, # if the parameter requires gradeient, torch.autograd\n",
        "                                           dtype = torch.float))\n",
        "\n",
        "    self.bias = nn.Parameter(torch.rand(1,\n",
        "                                        requires_grad = True,\n",
        "                                        dtype = torch.float))\n",
        "\n",
        "  # Forward method to define the computation in the model (at call)\n",
        "  def forward(self, x: torch.Tensor) -> torch.Tensor: # <- \"x\" is the input data\n",
        "    return self.weights * x + self.bias\n"
      ],
      "metadata": {
        "id": "i7stC-8pKans"
      },
      "execution_count": 6,
      "outputs": []
    },
    {
      "cell_type": "markdown",
      "source": [
        "Pytorch model building essentials\n",
        "\n",
        "* ``torch.nn`` - contains all of the buildings for computational graphs\n",
        "* ``torch.nn.Parameters`` - what parameters should our model try and learn, often a PyTorch layer  from torch.nn will set these for us\n",
        "* ``torch.nn.Module`` - The base class for all neural modules, if you subclass it, you should overwrite forward()\n",
        "* ``torch.optim`` - this where the optimizer in Pytorch live, They will help with gradient descent\n",
        "* ``def forward()`` - All nn.Module require you to overwrite forward(), this method overwrite defines what happens in the forward computation.\n"
      ],
      "metadata": {
        "id": "BUYvwvaVXwv9"
      }
    },
    {
      "cell_type": "code",
      "source": [
        "torch.manual_seed(42)\n",
        "\n",
        "model_0 = LinearRegressionModel()\n",
        "\n",
        "list(model_0.parameters())"
      ],
      "metadata": {
        "id": "VsdKatTqJgXJ",
        "colab": {
          "base_uri": "https://localhost:8080/"
        },
        "outputId": "308ba8cf-2907-4eef-adf7-7a4a25d9da98"
      },
      "execution_count": 7,
      "outputs": [
        {
          "output_type": "execute_result",
          "data": {
            "text/plain": [
              "[Parameter containing:\n",
              " tensor([0.8823], requires_grad=True),\n",
              " Parameter containing:\n",
              " tensor([0.9150], requires_grad=True)]"
            ]
          },
          "metadata": {},
          "execution_count": 7
        }
      ]
    },
    {
      "cell_type": "code",
      "source": [
        "model_0.state_dict()"
      ],
      "metadata": {
        "id": "3qO87MZaJg5f",
        "colab": {
          "base_uri": "https://localhost:8080/"
        },
        "outputId": "703fcffd-c769-40e9-ad51-add83d70faed"
      },
      "execution_count": 8,
      "outputs": [
        {
          "output_type": "execute_result",
          "data": {
            "text/plain": [
              "OrderedDict([('weights', tensor([0.8823])), ('bias', tensor([0.9150]))])"
            ]
          },
          "metadata": {},
          "execution_count": 8
        }
      ]
    },
    {
      "cell_type": "markdown",
      "source": [
        "### Make predictions using ``torch.inference_mode()``\n"
      ],
      "metadata": {
        "id": "j6SL1QIxJhPu"
      }
    },
    {
      "cell_type": "code",
      "source": [
        "with torch.inference_mode():\n",
        "  y_preds = model_0(X_test)\n",
        "\n",
        "# Other option but not preferred:\n",
        "#   with torch.no_grad():\n",
        "#     y_preds = model_0(X_test)\n",
        "\n",
        "y_preds"
      ],
      "metadata": {
        "colab": {
          "base_uri": "https://localhost:8080/"
        },
        "id": "s48-UYOq6kYD",
        "outputId": "6db4a7a5-fb46-4dff-926e-f9c0ff4c9a32"
      },
      "execution_count": 9,
      "outputs": [
        {
          "output_type": "execute_result",
          "data": {
            "text/plain": [
              "tensor([[1.6208],\n",
              "        [1.6385],\n",
              "        [1.6561],\n",
              "        [1.6738],\n",
              "        [1.6914],\n",
              "        [1.7090],\n",
              "        [1.7267],\n",
              "        [1.7443],\n",
              "        [1.7620],\n",
              "        [1.7796]])"
            ]
          },
          "metadata": {},
          "execution_count": 9
        }
      ]
    },
    {
      "cell_type": "code",
      "source": [
        "plot_predictions(predictions=y_preds)"
      ],
      "metadata": {
        "id": "oOnCMTlb7vyU",
        "colab": {
          "base_uri": "https://localhost:8080/",
          "height": 445
        },
        "outputId": "11116fa9-c53f-479e-f5d5-c4d95bd2f8e7"
      },
      "execution_count": 10,
      "outputs": [
        {
          "output_type": "display_data",
          "data": {
            "text/plain": [
              "<Figure size 800x500 with 1 Axes>"
            ],
            "image/png": "[encoded data removed]"
          },
          "metadata": {}
        }
      ]
    },
    {
      "cell_type": "markdown",
      "source": [
        "## Train  Model\n",
        "\n",
        "What's needed:\n",
        "  - **Loss function**: how wrong your model predictions, lower is better\n",
        "  - **Optimizer**: adjust base in the loss function\n",
        "\n",
        "for pytorch you need:\n",
        "  - A training loop\n",
        "  - A testin loop"
      ],
      "metadata": {
        "id": "5KX-hks7_niO"
      }
    },
    {
      "cell_type": "code",
      "source": [
        "# Loss function\n",
        "loss_fn = nn.L1Loss()\n",
        "\n",
        "# Setup an optimizer\n",
        "optimizer = torch.optim.SGD(model_0.parameters(),\n",
        "                            lr = 0.01 # learning rate,\n",
        "                            )\n"
      ],
      "metadata": {
        "id": "QPc8JPTT_n6q"
      },
      "execution_count": 11,
      "outputs": []
    },
    {
      "cell_type": "markdown",
      "source": [
        "### Building a training loop (and testing)\n",
        "\n",
        "Whats need:\n",
        "0. Loop through the data\n",
        "1. Forward pass (data moving through ``forward()`` of the model) to make predictions - also called forward propagation\n",
        "2. Calculate the loss (compare forward pass predictions to ground truht labels)\n",
        "3. Optimzer zero grad\n",
        "4. Loss backward - move backward throught the network to calculate the gradients of each of the parameters of our model with respecto to the loss (**backpropagation**)\n",
        "5. Optimizer step - use optimizer to adjust our model's parameters to try and improve the loss (**gradient descent**)"
      ],
      "metadata": {
        "id": "9cgLhYvt_oOR"
      }
    },
    {
      "cell_type": "code",
      "source": [
        "# the number of loops over the data\n",
        "epochs = 100\n",
        "\n",
        "epoch_count = []\n",
        "loss_values = []\n",
        "test_loss_values = []\n",
        "\n",
        "\n",
        "\n",
        "## TRAINING\n",
        "\n",
        "# 0. Loop through data\n",
        "for epoch in range(epochs):\n",
        "  # Set modelo to training mode\n",
        "  model_0.train()\n",
        "\n",
        "  # 1. Forward pass\n",
        "  y_pred = model_0(X_train)\n",
        "\n",
        "  # 2. Calculate the loss\n",
        "  loss = loss_fn(y_pred, y_train)\n",
        "  # print(f'Loss: {loss}')\n",
        "\n",
        "  # 3. Optimizer zero grad\n",
        "  optimizer.zero_grad()\n",
        "\n",
        "  # 4. Perform backpropagation on the loss with respect to the parameters of the model\n",
        "  loss.backward()\n",
        "\n",
        "  # 5. Step the optimizer (perform gradient descent)\n",
        "  optimizer.step()\n",
        "  with torch.inference_mode(): # turn off the gradient\n",
        "     # 1. Do the forward pass\n",
        "     test_pred = model_0(X_test)\n",
        "     # 2. Calculate the loss\n",
        "     test_loss = loss_fn(test_pred, y_test)\n",
        "\n",
        "  if epoch % 10 == 0:\n",
        "    epoch_count.append(epoch)\n",
        "    loss_values.append(loss.detach().numpy())\n",
        "    test_loss_values.append(test_loss.detach().numpy())\n",
        "    print(f'Epoch: {epoch} | Loss: {loss} | Test loss: {test_loss}')\n",
        "    print(model_0.state_dict())\n",
        "\n",
        "  # Testing\n",
        "  model_0.eval()\n"
      ],
      "metadata": {
        "id": "Wy_-RBs0_of3",
        "colab": {
          "base_uri": "https://localhost:8080/"
        },
        "outputId": "0f7e0df5-9445-4e3f-942a-50965b785537"
      },
      "execution_count": 12,
      "outputs": [
        {
          "output_type": "stream",
          "name": "stdout",
          "text": [
            "Epoch: 0 | Loss: 0.6860889196395874 | Test loss: 0.7637526988983154\n",
            "OrderedDict([('weights', tensor([0.8784])), ('bias', tensor([0.9050]))])\n",
            "Epoch: 10 | Loss: 0.5708791017532349 | Test loss: 0.6290428042411804\n",
            "OrderedDict([('weights', tensor([0.8394])), ('bias', tensor([0.8050]))])\n",
            "Epoch: 20 | Loss: 0.45566922426223755 | Test loss: 0.4943329691886902\n",
            "OrderedDict([('weights', tensor([0.8004])), ('bias', tensor([0.7050]))])\n",
            "Epoch: 30 | Loss: 0.34045934677124023 | Test loss: 0.35962313413619995\n",
            "OrderedDict([('weights', tensor([0.7614])), ('bias', tensor([0.6050]))])\n",
            "Epoch: 40 | Loss: 0.2252494841814041 | Test loss: 0.2249133139848709\n",
            "OrderedDict([('weights', tensor([0.7224])), ('bias', tensor([0.5050]))])\n",
            "Epoch: 50 | Loss: 0.1100396141409874 | Test loss: 0.09020347893238068\n",
            "OrderedDict([('weights', tensor([0.6834])), ('bias', tensor([0.4050]))])\n",
            "Epoch: 60 | Loss: 0.009724985808134079 | Test loss: 0.020998019725084305\n",
            "OrderedDict([('weights', tensor([0.6539])), ('bias', tensor([0.3200]))])\n",
            "Epoch: 70 | Loss: 0.006216754671186209 | Test loss: 0.014099234715104103\n",
            "OrderedDict([('weights', tensor([0.6707])), ('bias', tensor([0.3120]))])\n",
            "Epoch: 80 | Loss: 0.002788322512060404 | Test loss: 0.005826681852340698\n",
            "OrderedDict([('weights', tensor([0.6878])), ('bias', tensor([0.3050]))])\n",
            "Epoch: 90 | Loss: 0.007095950655639172 | Test loss: 0.00754010071977973\n",
            "OrderedDict([('weights', tensor([0.6938])), ('bias', tensor([0.2980]))])\n"
          ]
        }
      ]
    },
    {
      "cell_type": "code",
      "source": [
        "model_0.state_dict()"
      ],
      "metadata": {
        "id": "EJH0rhZC_omS",
        "colab": {
          "base_uri": "https://localhost:8080/"
        },
        "outputId": "dd8b2439-677c-48b6-e870-ee1dbecd7c73"
      },
      "execution_count": 13,
      "outputs": [
        {
          "output_type": "execute_result",
          "data": {
            "text/plain": [
              "OrderedDict([('weights', tensor([0.6977])), ('bias', tensor([0.3080]))])"
            ]
          },
          "metadata": {},
          "execution_count": 13
        }
      ]
    },
    {
      "cell_type": "code",
      "source": [
        "with torch.inference_mode():\n",
        "  y_preds_new = model_0(X_test)\n",
        "plot_predictions(predictions=y_preds_new)"
      ],
      "metadata": {
        "id": "Ceq198i__osD",
        "colab": {
          "base_uri": "https://localhost:8080/",
          "height": 445
        },
        "outputId": "9b0d2b43-3916-4a24-a484-87dacfecca72"
      },
      "execution_count": 14,
      "outputs": [
        {
          "output_type": "display_data",
          "data": {
            "text/plain": [
              "<Figure size 800x500 with 1 Axes>"
            ],
            "image/png": "[encoded data removed]"
          },
          "metadata": {}
        }
      ]
    },
    {
      "cell_type": "code",
      "source": [
        "plt.plot(epoch_count, loss_values, label=\"Train loss\")\n",
        "plt.plot(epoch_count, test_loss_values, label=\"Test loss\")\n",
        "plt.title(\"Training and test loss curves\")\n",
        "plt.ylabel(\"Loss\")\n",
        "plt.xlabel(\"Epochs\")\n",
        "plt.legend();"
      ],
      "metadata": {
        "colab": {
          "base_uri": "https://localhost:8080/",
          "height": 472
        },
        "id": "NTyqHpRx_aa9",
        "outputId": "c687f29f-87b3-41e0-aa19-37e93a73f062"
      },
      "execution_count": 15,
      "outputs": [
        {
          "output_type": "display_data",
          "data": {
            "text/plain": [
              "<Figure size 640x480 with 1 Axes>"
            ],
            "image/png": "[encoded data removed]"
          },
          "metadata": {}
        }
      ]
    },
    {
      "cell_type": "markdown",
      "source": [
        "## Save the model\n",
        "\n",
        "There are three main methods you should about for saving and loading models in PyTorch.\n",
        "\n",
        "1.  `torch.save()` - allows you save a pytorch object in pytorch's pickle format\n",
        "2.  `torch.load()` - allow you load a saved pytorch object\n",
        "3. `torch.nn.Module.load_state_dict()` - this allows to load a model's saved state dictionary\n",
        "\n",
        "documentation: https://pytorch.org/tutorials/beginner/saving_loading_models.html"
      ],
      "metadata": {
        "id": "9YZkjn7fCH9Z"
      }
    },
    {
      "cell_type": "code",
      "source": [
        "model_0.state_dict()"
      ],
      "metadata": {
        "colab": {
          "base_uri": "https://localhost:8080/"
        },
        "id": "Kc_6fdXuCLnr",
        "outputId": "d1893afc-359a-444f-9b0e-b2a654ce1595"
      },
      "execution_count": 16,
      "outputs": [
        {
          "output_type": "execute_result",
          "data": {
            "text/plain": [
              "OrderedDict([('weights', tensor([0.6977])), ('bias', tensor([0.3080]))])"
            ]
          },
          "metadata": {},
          "execution_count": 16
        }
      ]
    },
    {
      "cell_type": "code",
      "source": [
        "from pathlib import Path\n",
        "\n",
        "# 1. Create model directory\n",
        "MODEL_PATH = Path(\"models\")\n",
        "MODEL_PATH.mkdir(parents=True, exist_ok=True)\n",
        "\n",
        "# 2. Create a model save path\n",
        "MODEL_NAME = '1_0_pytorch_workflow_code.pth'\n",
        "MODEL_SAVE_PATH = MODEL_PATH / MODEL_NAME\n",
        "\n",
        "MODEL_SAVE_PATH\n",
        "\n",
        "# 3. Save the model\n",
        "print(f'Saving model to: {MODEL_SAVE_PATH}')\n",
        "torch.save(obj=model_0.state_dict(),\n",
        "           f=MODEL_SAVE_PATH)"
      ],
      "metadata": {
        "colab": {
          "base_uri": "https://localhost:8080/"
        },
        "id": "XzFbvFXKFM4_",
        "outputId": "beb7436f-0e25-4e39-fb13-17f3dccfa18a"
      },
      "execution_count": 17,
      "outputs": [
        {
          "output_type": "stream",
          "name": "stdout",
          "text": [
            "Saving model to: models/1_0_pytorch_workflow_code.pth\n"
          ]
        }
      ]
    },
    {
      "cell_type": "code",
      "source": [
        "!ls -l models"
      ],
      "metadata": {
        "colab": {
          "base_uri": "https://localhost:8080/"
        },
        "id": "yzmQoM72GVor",
        "outputId": "86724106-7fa0-4d18-9a0b-924a2de07890"
      },
      "execution_count": 18,
      "outputs": [
        {
          "output_type": "stream",
          "name": "stdout",
          "text": [
            "total 4\n",
            "-rw-r--r-- 1 root root 1668 Feb 19 21:49 1_0_pytorch_workflow_code.pth\n"
          ]
        }
      ]
    },
    {
      "cell_type": "markdown",
      "source": [
        "## Loading a PyTorch model"
      ],
      "metadata": {
        "id": "O4xRF-j2Hs4n"
      }
    },
    {
      "cell_type": "code",
      "source": [
        "# To load in a saved state_dict we hace to instantiate a new instance of our model class\n",
        "loaded_model_0 = LinearRegressionModel()\n",
        "\n",
        "# Load the saved state_dict of model_0 (this will update the new instance with updated parameters)\n",
        "loaded_model_0.load_state_dict(torch.load(f=MODEL_SAVE_PATH))"
      ],
      "metadata": {
        "colab": {
          "base_uri": "https://localhost:8080/"
        },
        "id": "LRUGeD3IH2Hu",
        "outputId": "263550d3-55d6-4aeb-dcd4-c45b6c2a52b1"
      },
      "execution_count": 19,
      "outputs": [
        {
          "output_type": "stream",
          "name": "stderr",
          "text": [
            "<ipython-input-19-1573e0dcdff2>:5: FutureWarning: You are using `torch.load` with `weights_only=False` (the current default value), which uses the default pickle module implicitly. It is possible to construct malicious pickle data which will execute arbitrary code during unpickling (See https://github.com/pytorch/pytorch/blob/main/SECURITY.md#untrusted-models for more details). In a future release, the default value for `weights_only` will be flipped to `True`. This limits the functions that could be executed during unpickling. Arbitrary objects will no longer be allowed to be loaded via this mode unless they are explicitly allowlisted by the user via `torch.serialization.add_safe_globals`. We recommend you start setting `weights_only=True` for any use case where you don't have full control of the loaded file. Please open an issue on GitHub for any issues related to this experimental feature.\n",
            "  loaded_model_0.load_state_dict(torch.load(f=MODEL_SAVE_PATH))\n"
          ]
        },
        {
          "output_type": "execute_result",
          "data": {
            "text/plain": [
              "<All keys matched successfully>"
            ]
          },
          "metadata": {},
          "execution_count": 19
        }
      ]
    },
    {
      "cell_type": "code",
      "source": [
        "loaded_model_0.state_dict()"
      ],
      "metadata": {
        "colab": {
          "base_uri": "https://localhost:8080/"
        },
        "id": "Haa0tlK7H2dT",
        "outputId": "6b9c2a4e-43a8-40db-ae68-a852c851c625"
      },
      "execution_count": 20,
      "outputs": [
        {
          "output_type": "execute_result",
          "data": {
            "text/plain": [
              "OrderedDict([('weights', tensor([0.6977])), ('bias', tensor([0.3080]))])"
            ]
          },
          "metadata": {},
          "execution_count": 20
        }
      ]
    },
    {
      "cell_type": "code",
      "source": [
        "# Make some predictions with our loaded model\n",
        "loaded_model_0.eval()\n",
        "with torch.inference_mode():\n",
        "  loaded_model_preds = loaded_model_0(X_test)\n",
        "\n",
        "loaded_model_preds"
      ],
      "metadata": {
        "colab": {
          "base_uri": "https://localhost:8080/"
        },
        "id": "mucbQJskH2iY",
        "outputId": "a688191f-49f7-45fa-eb02-8df316a0bd1c"
      },
      "execution_count": 21,
      "outputs": [
        {
          "output_type": "execute_result",
          "data": {
            "text/plain": [
              "tensor([[0.8661],\n",
              "        [0.8801],\n",
              "        [0.8940],\n",
              "        [0.9080],\n",
              "        [0.9220],\n",
              "        [0.9359],\n",
              "        [0.9499],\n",
              "        [0.9638],\n",
              "        [0.9778],\n",
              "        [0.9917]])"
            ]
          },
          "metadata": {},
          "execution_count": 21
        }
      ]
    },
    {
      "cell_type": "code",
      "source": [
        "y_preds_new == loaded_model_preds"
      ],
      "metadata": {
        "colab": {
          "base_uri": "https://localhost:8080/"
        },
        "id": "pjuv1qvqH2zW",
        "outputId": "d40a2a08-2827-4211-d5a3-14f0e8c92142"
      },
      "execution_count": 22,
      "outputs": [
        {
          "output_type": "execute_result",
          "data": {
            "text/plain": [
              "tensor([[True],\n",
              "        [True],\n",
              "        [True],\n",
              "        [True],\n",
              "        [True],\n",
              "        [True],\n",
              "        [True],\n",
              "        [True],\n",
              "        [True],\n",
              "        [True]])"
            ]
          },
          "metadata": {},
          "execution_count": 22
        }
      ]
    },
    {
      "cell_type": "markdown",
      "source": [
        "## Putting all together"
      ],
      "metadata": {
        "id": "U7NrsbCOKG0q"
      }
    },
    {
      "cell_type": "code",
      "source": [
        "import torch\n",
        "from torch import nn\n",
        "import matplotlib.pyplot as plt\n",
        "\n",
        "torch.__version__"
      ],
      "metadata": {
        "colab": {
          "base_uri": "https://localhost:8080/",
          "height": 36
        },
        "id": "OG-i6kfaLWw6",
        "outputId": "0098473b-a8b0-4b89-f89a-2246973cd007"
      },
      "execution_count": 23,
      "outputs": [
        {
          "output_type": "execute_result",
          "data": {
            "text/plain": [
              "'2.5.1+cu124'"
            ],
            "application/vnd.google.colaboratory.intrinsic+json": {
              "type": "string"
            }
          },
          "metadata": {},
          "execution_count": 23
        }
      ]
    },
    {
      "cell_type": "markdown",
      "source": [
        "Create device-agnostic code\n",
        "This means if we've got access to a GPU, our coud will use it"
      ],
      "metadata": {
        "id": "ihtNmhwILeBH"
      }
    },
    {
      "cell_type": "code",
      "source": [
        "device = \"cuda\" if torch.cuda.is_available() else \"cpu\"\n",
        "print(f'Using device: {device}')"
      ],
      "metadata": {
        "colab": {
          "base_uri": "https://localhost:8080/"
        },
        "id": "8sLnDXGxLmRo",
        "outputId": "d1c11ef7-216f-41db-8af5-2a5dbdd7d829"
      },
      "execution_count": 24,
      "outputs": [
        {
          "output_type": "stream",
          "name": "stdout",
          "text": [
            "Using device: cuda\n"
          ]
        }
      ]
    },
    {
      "cell_type": "code",
      "source": [
        "!nvidia-smi"
      ],
      "metadata": {
        "colab": {
          "base_uri": "https://localhost:8080/"
        },
        "id": "xNeJIY_oLmwL",
        "outputId": "9b66186e-d837-48b5-87ee-d8d659e1cc61"
      },
      "execution_count": 25,
      "outputs": [
        {
          "output_type": "stream",
          "name": "stdout",
          "text": [
            "Wed Feb 19 21:51:30 2025       \n",
            "+-----------------------------------------------------------------------------------------+\n",
            "| NVIDIA-SMI 550.54.15              Driver Version: 550.54.15      CUDA Version: 12.4     |\n",
            "|-----------------------------------------+------------------------+----------------------+\n",
            "| GPU  Name                 Persistence-M | Bus-Id          Disp.A | Volatile Uncorr. ECC |\n",
            "| Fan  Temp   Perf          Pwr:Usage/Cap |           Memory-Usage | GPU-Util  Compute M. |\n",
            "|                                         |                        |               MIG M. |\n",
            "|=========================================+========================+======================|\n",
            "|   0  Tesla T4                       Off |   00000000:00:04.0 Off |                    0 |\n",
            "| N/A   49C    P8             10W /   70W |       2MiB /  15360MiB |      0%      Default |\n",
            "|                                         |                        |                  N/A |\n",
            "+-----------------------------------------+------------------------+----------------------+\n",
            "                                                                                         \n",
            "+-----------------------------------------------------------------------------------------+\n",
            "| Processes:                                                                              |\n",
            "|  GPU   GI   CI        PID   Type   Process name                              GPU Memory |\n",
            "|        ID   ID                                                               Usage      |\n",
            "|=========================================================================================|\n",
            "|  No running processes found                                                             |\n",
            "+-----------------------------------------------------------------------------------------+\n"
          ]
        }
      ]
    },
    {
      "cell_type": "markdown",
      "source": [
        "### Data"
      ],
      "metadata": {
        "id": "xpyn_Nj3MfrP"
      }
    },
    {
      "cell_type": "code",
      "source": [
        "# Create some data using the linear regression formula\n",
        "\n",
        "weight = 0.7\n",
        "bias = 0.3\n",
        "\n",
        "# Create range values\n",
        "start = 0\n",
        "end = 1\n",
        "step = 0.02\n",
        "\n",
        "# Create X and y (features and labels)\n",
        "X = torch.arange(start,end,step).unsqueeze(dim=1)\n",
        "y = weight * X + bias\n",
        "X[:10], y[:10]"
      ],
      "metadata": {
        "colab": {
          "base_uri": "https://localhost:8080/"
        },
        "id": "Ed2zQ1buMmNA",
        "outputId": "2a04305f-bde8-4fe3-b985-2229b273e360"
      },
      "execution_count": 26,
      "outputs": [
        {
          "output_type": "execute_result",
          "data": {
            "text/plain": [
              "(tensor([[0.0000],\n",
              "         [0.0200],\n",
              "         [0.0400],\n",
              "         [0.0600],\n",
              "         [0.0800],\n",
              "         [0.1000],\n",
              "         [0.1200],\n",
              "         [0.1400],\n",
              "         [0.1600],\n",
              "         [0.1800]]),\n",
              " tensor([[0.3000],\n",
              "         [0.3140],\n",
              "         [0.3280],\n",
              "         [0.3420],\n",
              "         [0.3560],\n",
              "         [0.3700],\n",
              "         [0.3840],\n",
              "         [0.3980],\n",
              "         [0.4120],\n",
              "         [0.4260]]))"
            ]
          },
          "metadata": {},
          "execution_count": 26
        }
      ]
    },
    {
      "cell_type": "code",
      "source": [
        "# Split data\n",
        "train_split = int(0.8*len(X))\n",
        "X_train, y_train = X[:train_split], y[:train_split]\n",
        "X_test, y_test = X[train_split:], y[train_split:]\n",
        "len(X_train), len(y_train), len(X_test), len(y_test)"
      ],
      "metadata": {
        "colab": {
          "base_uri": "https://localhost:8080/"
        },
        "id": "LBAWVWLkNFzU",
        "outputId": "8255a0de-7dcf-4931-81d8-557db21b1cac"
      },
      "execution_count": 28,
      "outputs": [
        {
          "output_type": "execute_result",
          "data": {
            "text/plain": [
              "(40, 40, 10, 10)"
            ]
          },
          "metadata": {},
          "execution_count": 28
        }
      ]
    },
    {
      "cell_type": "code",
      "source": [
        "# Plot the data\n",
        "plot_predictions(X_train, y_train, X_test, y_test)"
      ],
      "metadata": {
        "colab": {
          "base_uri": "https://localhost:8080/",
          "height": 445
        },
        "id": "MmyNItWRNdHh",
        "outputId": "f7ff798f-0ecb-4b5b-b695-a9b2c9652d37"
      },
      "execution_count": 29,
      "outputs": [
        {
          "output_type": "display_data",
          "data": {
            "text/plain": [
              "<Figure size 800x500 with 1 Axes>"
            ],
            "image/png": "[encoded data removed]"
          },
          "metadata": {}
        }
      ]
    },
    {
      "cell_type": "markdown",
      "source": [
        "### Building a pytorch linear model"
      ],
      "metadata": {
        "id": "rKjIbt_TOiPD"
      }
    },
    {
      "cell_type": "code",
      "source": [
        "# Create a linear model by subclassing nn.Module\n",
        "class LinearRegModel(nn.Module):\n",
        "  def __init__(self):\n",
        "    super().__init__()\n",
        "    # Use nn.Linear() for creating the model parameters (#input size / output size)\n",
        "    self.linear_layer = nn.Linear(in_features=1,\n",
        "                                  out_features=1)\n",
        "\n",
        "  def forward(self, x: torch.Tensor) -> torch.Tensor:\n",
        "    return self.linear_layer(x)\n",
        "\n",
        "\n",
        "# Set seed\n",
        "torch.manual_seed(42)\n",
        "model_1 = LinearRegModel()\n",
        "model_1, model_1.state_dict()"
      ],
      "metadata": {
        "colab": {
          "base_uri": "https://localhost:8080/"
        },
        "id": "7J6TIY1yOx-l",
        "outputId": "c3faec92-eae4-49b2-9464-2a521ebc7c65"
      },
      "execution_count": 32,
      "outputs": [
        {
          "output_type": "execute_result",
          "data": {
            "text/plain": [
              "(LinearRegModel(\n",
              "   (linear_layer): Linear(in_features=1, out_features=1, bias=True)\n",
              " ),\n",
              " OrderedDict([('linear_layer.weight', tensor([[0.7645]])),\n",
              "              ('linear_layer.bias', tensor([0.8300]))]))"
            ]
          },
          "metadata": {},
          "execution_count": 32
        }
      ]
    },
    {
      "cell_type": "code",
      "source": [
        "model_1.to(device)\n",
        "next(model_1.parameters()).device"
      ],
      "metadata": {
        "colab": {
          "base_uri": "https://localhost:8080/"
        },
        "id": "nJvhtBfAPSeL",
        "outputId": "e43dde6d-1e9b-4abb-f1ef-66639a4f374c"
      },
      "execution_count": 36,
      "outputs": [
        {
          "output_type": "execute_result",
          "data": {
            "text/plain": [
              "device(type='cuda', index=0)"
            ]
          },
          "metadata": {},
          "execution_count": 36
        }
      ]
    },
    {
      "cell_type": "markdown",
      "source": [
        "### Training\n",
        "\n",
        "* Loss function\n",
        "* Optimizer\n",
        "* Training loop\n",
        "* Test loop\n"
      ],
      "metadata": {
        "id": "kj6Llmk8RjlV"
      }
    },
    {
      "cell_type": "code",
      "source": [
        "# loss function\n",
        "loss_fn = nn.L1Loss()\n",
        "\n",
        "# optimizer\n",
        "optimizer = torch.optim.SGD(params=model_1.parameters(),\n",
        "                            lr = 0.01)"
      ],
      "metadata": {
        "id": "wAYLmQIORt2G"
      },
      "execution_count": 41,
      "outputs": []
    },
    {
      "cell_type": "code",
      "source": [
        "# Let's write a training loop\n",
        "torch.manual_seed(42)\n",
        "\n",
        "epochs = 200\n",
        "\n",
        "# Put data in GPU\n",
        "X_train = X_train.to(device)\n",
        "y_train = y_train.to(device)\n",
        "X_test = X_test.to(device)\n",
        "y_test = y_test.to(device)\n",
        "\n",
        "for epoch in range(epochs):\n",
        "  model_1.train()\n",
        "\n",
        "  # forward pass\n",
        "  y_pred = model_1(X_train)\n",
        "\n",
        "  # 2. Calculate the loss\n",
        "  loss = loss_fn(y_pred, y_train)\n",
        "\n",
        "  # 3. optimizer zero grad\n",
        "  optimizer.zero_grad()\n",
        "\n",
        "  # 4. Perform backpropagation\n",
        "  loss.backward()\n",
        "\n",
        "  # 5. Optimizer step\n",
        "  optimizer.step()\n",
        "\n",
        "  ### Testing\n",
        "  model_1.eval()\n",
        "  with torch.inference_mode():\n",
        "    test_pred = model_1(X_test)\n",
        "\n",
        "    test_loss = loss_fn(test_pred, y_test)\n",
        "\n",
        "  # print out whats happening\n",
        "\n",
        "  if epoch % 10 == 0:\n",
        "    print(f\"Epoch: {epoch} | Loss: {loss} | Test loss: {test_loss}\")"
      ],
      "metadata": {
        "colab": {
          "base_uri": "https://localhost:8080/"
        },
        "id": "4FoIVhzFSDuI",
        "outputId": "479ed19f-89e5-4922-f034-53af8e3ab1b7"
      },
      "execution_count": 43,
      "outputs": [
        {
          "output_type": "stream",
          "name": "stdout",
          "text": [
            "Epoch: 0 | Loss: 0.5551779866218567 | Test loss: 0.5739762187004089\n",
            "Epoch: 10 | Loss: 0.439968079328537 | Test loss: 0.4392664134502411\n",
            "Epoch: 20 | Loss: 0.3247582018375397 | Test loss: 0.30455657839775085\n",
            "Epoch: 30 | Loss: 0.20954833924770355 | Test loss: 0.16984669864177704\n",
            "Epoch: 40 | Loss: 0.09433845430612564 | Test loss: 0.03513690456748009\n",
            "Epoch: 50 | Loss: 0.023886388167738914 | Test loss: 0.04784907028079033\n",
            "Epoch: 60 | Loss: 0.019956795498728752 | Test loss: 0.045803118497133255\n",
            "Epoch: 70 | Loss: 0.016517987474799156 | Test loss: 0.037530567497015\n",
            "Epoch: 80 | Loss: 0.013089174404740334 | Test loss: 0.02994490973651409\n",
            "Epoch: 90 | Loss: 0.009653178043663502 | Test loss: 0.02167237363755703\n",
            "Epoch: 100 | Loss: 0.006215683650225401 | Test loss: 0.014086711220443249\n",
            "Epoch: 110 | Loss: 0.00278724217787385 | Test loss: 0.005814164876937866\n",
            "Epoch: 120 | Loss: 0.0012645035749301314 | Test loss: 0.013801801018416882\n",
            "Epoch: 130 | Loss: 0.0012645035749301314 | Test loss: 0.013801801018416882\n",
            "Epoch: 140 | Loss: 0.0012645035749301314 | Test loss: 0.013801801018416882\n",
            "Epoch: 150 | Loss: 0.0012645035749301314 | Test loss: 0.013801801018416882\n",
            "Epoch: 160 | Loss: 0.0012645035749301314 | Test loss: 0.013801801018416882\n",
            "Epoch: 170 | Loss: 0.0012645035749301314 | Test loss: 0.013801801018416882\n",
            "Epoch: 180 | Loss: 0.0012645035749301314 | Test loss: 0.013801801018416882\n",
            "Epoch: 190 | Loss: 0.0012645035749301314 | Test loss: 0.013801801018416882\n"
          ]
        }
      ]
    },
    {
      "cell_type": "code",
      "source": [
        "model_1.state_dict()"
      ],
      "metadata": {
        "colab": {
          "base_uri": "https://localhost:8080/"
        },
        "id": "K-t40lIlTic9",
        "outputId": "459a64cf-5792-48ae-ee53-dc25e5848d71"
      },
      "execution_count": 44,
      "outputs": [
        {
          "output_type": "execute_result",
          "data": {
            "text/plain": [
              "OrderedDict([('linear_layer.weight', tensor([[0.6968]], device='cuda:0')),\n",
              "             ('linear_layer.bias', tensor([0.3025], device='cuda:0'))])"
            ]
          },
          "metadata": {},
          "execution_count": 44
        }
      ]
    },
    {
      "cell_type": "markdown",
      "source": [
        "### Making and evaluating predictions"
      ],
      "metadata": {
        "id": "xKIqvbrGToQC"
      }
    },
    {
      "cell_type": "code",
      "source": [
        "model_1.eval()\n",
        "\n",
        "with torch.inference_mode():\n",
        "  y_preds = model_1(X_test)\n",
        "y_preds"
      ],
      "metadata": {
        "colab": {
          "base_uri": "https://localhost:8080/"
        },
        "id": "Y4cN2_D9Txuq",
        "outputId": "1cba33e1-11bd-45a9-8a10-19e51389f486"
      },
      "execution_count": 46,
      "outputs": [
        {
          "output_type": "execute_result",
          "data": {
            "text/plain": [
              "tensor([[0.8600],\n",
              "        [0.8739],\n",
              "        [0.8878],\n",
              "        [0.9018],\n",
              "        [0.9157],\n",
              "        [0.9296],\n",
              "        [0.9436],\n",
              "        [0.9575],\n",
              "        [0.9714],\n",
              "        [0.9854]], device='cuda:0')"
            ]
          },
          "metadata": {},
          "execution_count": 46
        }
      ]
    },
    {
      "cell_type": "code",
      "source": [
        "plot_predictions(predictions=y_preds.cpu())"
      ],
      "metadata": {
        "colab": {
          "base_uri": "https://localhost:8080/",
          "height": 445
        },
        "id": "xX4QrVqhTx3a",
        "outputId": "55cec63b-2aaf-47da-931b-0c2d21d2672a"
      },
      "execution_count": 47,
      "outputs": [
        {
          "output_type": "display_data",
          "data": {
            "text/plain": [
              "<Figure size 800x500 with 1 Axes>"
            ],
            "image/png": "[encoded data removed]"
          },
          "metadata": {}
        }
      ]
    },
    {
      "cell_type": "markdown",
      "source": [
        "### Saving & loading a trained model"
      ],
      "metadata": {
        "id": "UYw6HKYDUIq2"
      }
    },
    {
      "cell_type": "code",
      "source": [
        "from pathlib import Path\n",
        "\n",
        "# Create models directory\n",
        "MODEL_PATH = Path(\"models\")\n",
        "MODEL_PATH.mkdir(parents=True, exist_ok=True)\n",
        "\n",
        "MODEL_NAME = \"1_0_pytorch_workflow_code.pt\"\n",
        "MODEL_SAVE_PATH = MODEL_PATH / MODEL_NAME\n",
        "\n",
        "print(f'Saving model to: {MODEL_SAVE_PATH}')\n",
        "torch.save(obj=model_1.state_dict(),\n",
        "          f=MODEL_SAVE_PATH)"
      ],
      "metadata": {
        "colab": {
          "base_uri": "https://localhost:8080/"
        },
        "id": "n9p0rVysULaT",
        "outputId": "19e67168-5a90-406d-ed38-a6d8226a9701"
      },
      "execution_count": 50,
      "outputs": [
        {
          "output_type": "stream",
          "name": "stdout",
          "text": [
            "Saving model to: models/1_0_pytorch_workflow_code.pt\n"
          ]
        }
      ]
    },
    {
      "cell_type": "markdown",
      "source": [
        "### Load a pytorch model"
      ],
      "metadata": {
        "id": "EiR9DZnnVE-i"
      }
    },
    {
      "cell_type": "code",
      "source": [
        "loaded_model_1 = LinearRegModel()\n",
        "\n",
        "loaded_model_1.load_state_dict(torch.load(MODEL_SAVE_PATH))\n",
        "\n",
        "loaded_model_1.to(device)"
      ],
      "metadata": {
        "colab": {
          "base_uri": "https://localhost:8080/"
        },
        "id": "PAcqo7GiVHw5",
        "outputId": "4592a03e-e373-4a47-b45e-841ee36bf0e9"
      },
      "execution_count": 69,
      "outputs": [
        {
          "output_type": "stream",
          "name": "stderr",
          "text": [
            "<ipython-input-69-f779942bc39d>:3: FutureWarning: You are using `torch.load` with `weights_only=False` (the current default value), which uses the default pickle module implicitly. It is possible to construct malicious pickle data which will execute arbitrary code during unpickling (See https://github.com/pytorch/pytorch/blob/main/SECURITY.md#untrusted-models for more details). In a future release, the default value for `weights_only` will be flipped to `True`. This limits the functions that could be executed during unpickling. Arbitrary objects will no longer be allowed to be loaded via this mode unless they are explicitly allowlisted by the user via `torch.serialization.add_safe_globals`. We recommend you start setting `weights_only=True` for any use case where you don't have full control of the loaded file. Please open an issue on GitHub for any issues related to this experimental feature.\n",
            "  loaded_model_1.load_state_dict(torch.load(MODEL_SAVE_PATH))\n"
          ]
        },
        {
          "output_type": "execute_result",
          "data": {
            "text/plain": [
              "LinearRegModel(\n",
              "  (linear_layer): Linear(in_features=1, out_features=1, bias=True)\n",
              ")"
            ]
          },
          "metadata": {},
          "execution_count": 69
        }
      ]
    },
    {
      "cell_type": "code",
      "source": [
        "next(loaded_model_1.parameters()).device"
      ],
      "metadata": {
        "colab": {
          "base_uri": "https://localhost:8080/"
        },
        "id": "YEyLfgVkVmjG",
        "outputId": "21bad656-11ee-4518-e623-33d53e1dc439"
      },
      "execution_count": 70,
      "outputs": [
        {
          "output_type": "execute_result",
          "data": {
            "text/plain": [
              "device(type='cuda', index=0)"
            ]
          },
          "metadata": {},
          "execution_count": 70
        }
      ]
    },
    {
      "cell_type": "code",
      "source": [
        "X_test.device"
      ],
      "metadata": {
        "colab": {
          "base_uri": "https://localhost:8080/"
        },
        "id": "jPwpMYU2WJ5d",
        "outputId": "374ec1d2-d008-4d53-b802-e44ac3e890d6"
      },
      "execution_count": 71,
      "outputs": [
        {
          "output_type": "execute_result",
          "data": {
            "text/plain": [
              "device(type='cuda', index=0)"
            ]
          },
          "metadata": {},
          "execution_count": 71
        }
      ]
    },
    {
      "cell_type": "code",
      "source": [
        "loaded_model_1.state_dict()"
      ],
      "metadata": {
        "colab": {
          "base_uri": "https://localhost:8080/"
        },
        "id": "wTHDEkK9VqQK",
        "outputId": "91cbc8f8-07d9-4185-e4ed-a446272910a1"
      },
      "execution_count": 72,
      "outputs": [
        {
          "output_type": "execute_result",
          "data": {
            "text/plain": [
              "OrderedDict([('linear_layer.weight', tensor([[0.6968]], device='cuda:0')),\n",
              "             ('linear_layer.bias', tensor([0.3025], device='cuda:0'))])"
            ]
          },
          "metadata": {},
          "execution_count": 72
        }
      ]
    },
    {
      "cell_type": "code",
      "source": [
        "loaded_model_1.eval()\n",
        "with torch.inference_mode():\n",
        "  loaded_model_1_preds = loaded_model_1(X_test)\n",
        "y_preds == loaded_model_1_preds"
      ],
      "metadata": {
        "colab": {
          "base_uri": "https://localhost:8080/"
        },
        "id": "jLFgRAnkVs76",
        "outputId": "565b8b1c-fcda-4552-a0c9-a0f28066cc30"
      },
      "execution_count": 73,
      "outputs": [
        {
          "output_type": "execute_result",
          "data": {
            "text/plain": [
              "tensor([[True],\n",
              "        [True],\n",
              "        [True],\n",
              "        [True],\n",
              "        [True],\n",
              "        [True],\n",
              "        [True],\n",
              "        [True],\n",
              "        [True],\n",
              "        [True]], device='cuda:0')"
            ]
          },
          "metadata": {},
          "execution_count": 73
        }
      ]
    },
    {
      "cell_type": "markdown",
      "source": [
        "## Exercises & Extra"
      ],
      "metadata": {
        "id": "yiWY2-slW4hO"
      }
    }
  ]
}